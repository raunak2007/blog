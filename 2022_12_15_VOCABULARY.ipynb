{
  "cells": [
    {
      "cell_type": "markdown",
      "metadata": {
        "id": "oIcpuqs_iJR0"
      },
      "source": [
        "<hr>"
      ]
    },
    {
      "cell_type": "markdown",
      "metadata": {
        "id": "SIN-odzYiJR1"
      },
      "source": [
        "# Algorithm \n",
        "\n",
        "The study of encoding and decoding signals to ensure their security. Coding is done using a key that should ideally only be known by the message's sender and intended receiver.\n",
        "\n",
        "An algorithm is essentially just a conceptually generalized solution to a problem that may be later used in the actual world, such as a computer program.\n",
        "Interface for Application Programs An API is a collection of procedures, protocols, and instruments used to create software applications. The interaction between software components is defined by an API. The programming of graphical user interface (GUI) components also uses APIs.\n"
      ]
    },
    {
      "cell_type": "code",
      "execution_count": null,
      "metadata": {
        "id": "W7KpyXqliJR2"
      },
      "outputs": [],
      "source": [
        "def get_even_numbers(numbers: List[int]) -> List[int]:\n",
        "    even_numbers = []\n",
        "    \n",
        "    for number in numbers:\n",
        "        if number % 2 == 0:\n",
        "            even_numbers.append(number)\n",
        "    \n",
        "    return even_numbers"
      ]
    },
    {
      "cell_type": "markdown",
      "metadata": {
        "id": "IJJFl0s_iJR4"
      },
      "source": []
    },
    {
      "cell_type": "markdown",
      "metadata": {
        "id": "hHPPpzzZiJR4"
      },
      "source": [
        "<hr>"
      ]
    },
    {
      "cell_type": "markdown",
      "metadata": {
        "id": "DPfDlX3diJR5"
      },
      "source": [
        "# Binary \n",
        "\n",
        "The study of encoding and decoding signals to ensure their security. Coding is done using a key that should ideally only be known by the message's sender and intended receiver.\n",
        "\n",
        "One of the lowest levels of abstraction employs a base-2 numeric system that only uses combinations of the digits zero and one. Because they only use zeros and ones for data storage and computation, computers only work in binary. In boolean logic, a single binary digit can stand in for True (1) or False (0), but many binary digits can be combined to store enormous amounts of data and carry out intricate operations. Computers convert between binary and the real data you need, such numbers and"
      ]
    },
    {
      "cell_type": "code",
      "execution_count": null,
      "metadata": {
        "id": "HdDf3zifiJR6"
      },
      "outputs": [],
      "source": [
        "# Binary example\n",
        "\n",
        "def decimal_to_binary(n: int) -> str:\n",
        "    binary_digits = []\n",
        "    \n",
        "    while n > 0:\n",
        "        binary_digits.append(n % 2)\n",
        "        n = n // 2\n",
        "    \n",
        "    return \"\".join(str(d) for d in binary_digits[::-1])"
      ]
    },
    {
      "cell_type": "markdown",
      "metadata": {
        "id": "lllEP-UsiJR7"
      },
      "source": [
        "<hr>"
      ]
    },
    {
      "cell_type": "markdown",
      "metadata": {
        "id": "4Wlq732IiJR7"
      },
      "source": [
        "# Binary Search \t\n",
        "\n",
        "The study of encoding and decoding signals to ensure their security. Coding is done using a key that should ideally only be known by the message's sender and intended receiver.\n",
        "\n",
        "Only applicable when the list is sorted, this search technique finds the location of a target value within a sorted array by continually halving the search interval. The amount of effort needed to discover an object rises considerably more slowly with Binary Search than with Sequential Search due to its divide-and-conquer strategy. With this logarithmic tendency, in reality.\n"
      ]
    },
    {
      "cell_type": "code",
      "execution_count": null,
      "metadata": {
        "id": "nfJOWer8iJR8"
      },
      "outputs": [],
      "source": [
        "def binary_search(arr: List[int], target: int) -> int:\n",
        "    low = 0\n",
        "    high = len(arr) - 1\n",
        "\n",
        "    while low <= high:\n",
        "        mid = (low + high) // 2\n",
        "        \n",
        "        if target < arr[mid]:\n",
        "            high = mid - 1  # Narrow the search range to the lower half\n",
        "        elif target > arr[mid]:\n",
        "            low = mid + 1  # Narrow the search range to the upper half\n",
        "        else:\n",
        "            return mid  # Return the index of the target element\n",
        "        return -1"
      ]
    },
    {
      "cell_type": "markdown",
      "metadata": {
        "id": "uZ_iluHxiJR9"
      },
      "source": [
        "<hr>"
      ]
    },
    {
      "cell_type": "markdown",
      "metadata": {
        "id": "4LHMBwnHiJR9"
      },
      "source": [
        "# Boolean Function\n",
        "\n",
        "# of libraries\n",
        "\n",
        "the study of encoding and decoding signals to ensure their security. Coding is done using a key that should ideally only be known by the message's sender and intended receiver.\n",
        "\n",
        "any function that is based on AND, OR, and NOT and whose constituent parts fall under the purview of boolean algebra. a function that takes values from a two-element set (often 0 and 1) for both its inputs and the function itself. Processing Unit Central The computer's brain, also known as the processor, is where the majority of computations are performed. Contains the hardware required to understand and carry out software instructions."
      ]
    },
    {
      "cell_type": "code",
      "execution_count": null,
      "metadata": {
        "id": "c70uNNfYiJR9"
      },
      "outputs": [],
      "source": [
        "def bool_func(x: bool, y: bool) -> bool:\n",
        "    if x and not y:\n",
        "        return True\n",
        "    else:\n",
        "        return False"
      ]
    },
    {
      "cell_type": "markdown",
      "metadata": {
        "id": "kPhPQSO6iJR-"
      },
      "source": [
        "<hr>"
      ]
    },
    {
      "cell_type": "markdown",
      "metadata": {
        "id": "PpMzAGE9iJR-"
      },
      "source": [
        "# Computational Artifact\n",
        "\n",
        "Something created by a human using a computer and can be, but is not limited to, a program, an image, an audio, a video, a presentation, or web page file,"
      ]
    },
    {
      "cell_type": "code",
      "execution_count": 3,
      "metadata": {
        "colab": {
          "base_uri": "https://localhost:8080/"
        },
        "id": "GxzUeXGciJR-",
        "outputId": "57cc02ea-8e24-446d-dbb2-e757a6e40b5a"
      },
      "outputs": [
        {
          "output_type": "stream",
          "name": "stdout",
          "text": [
            "  % Total    % Received % Xferd  Average Speed   Time    Time     Time  Current\n",
            "                                 Dload  Upload   Total   Spent    Left  Speed\n",
            "100 55.0M  100 55.0M    0     0  26.2M      0  0:00:02  0:00:02 --:--:-- 26.2M\n"
          ]
        }
      ],
      "source": [
        "# Computational Artifact example\n",
        "\n",
        "!curl -O https://upload.wikimedia.org/wikipedia/commons/8/86/End_of_a_jam.ogv"
      ]
    },
    {
      "cell_type": "markdown",
      "metadata": {
        "id": "Joy_iSAmiJR_"
      },
      "source": [
        "<hr>"
      ]
    },
    {
      "cell_type": "markdown",
      "metadata": {
        "id": "PCFk0dFEiJR_"
      },
      "source": [
        "# Cryptography\n",
        "\n",
        "The study of encoding and decoding signals to ensure their security. Coding is done using a key that should ideally only be known by the message's sender and intended receiver.\n",
        "\n",
        "Numbers in Floating Points Numbers with floating decimal points are known as floating point numbers, as the name suggests. The figures 5.5, 0.001, and -2,345.6789 are some examples. Integers are numbers that have no decimal places. Real numbers with embedded fractions are recognized as floating point numbers by computers."
      ]
    },
    {
      "cell_type": "code",
      "execution_count": null,
      "metadata": {
        "id": "yntnw4MKiJR_",
        "outputId": "01332a1c-14b0-4652-e543-613e139a5c4e"
      },
      "outputs": [
        {
          "name": "stdout",
          "output_type": "stream",
          "text": [
            "Plaintext:  THE QUICK BROWN FOX JUMPS OVER THE LAZY DOG\n",
            "Ciphertext: QEB NRFZH YOLTK CLU GRJMP LSBO QEB IXWV ALD\n"
          ]
        }
      ],
      "source": [
        "# Cryptography example\n",
        "\n",
        "print('Plaintext:  THE QUICK BROWN FOX JUMPS OVER THE LAZY DOG')\n",
        "print('Ciphertext: QEB NRFZH YOLTK CLU GRJMP LSBO QEB IXWV ALD')"
      ]
    },
    {
      "cell_type": "markdown",
      "metadata": {
        "id": "X8g1LU27iJSA"
      },
      "source": [
        "<hr>"
      ]
    },
    {
      "cell_type": "markdown",
      "metadata": {
        "id": "wCu55YVkiJSA"
      },
      "source": [
        "# Hexadecimal\n",
        "Integers can be positive, negative, or zero and are full numbers, not fractions. A datum of integral data type, or data type that represents a limited subset of the mathematical integers, is what is known as an integer in computer science. Different widths and the ability to include negative values are both options for integral data types.\n"
      ]
    },
    {
      "cell_type": "code",
      "execution_count": null,
      "metadata": {
        "id": "ogs_SlKTiJSB",
        "outputId": "887dd2c0-f777-4944-8ecd-5db92dcdf7d8"
      },
      "outputs": [
        {
          "name": "stdout",
          "output_type": "stream",
          "text": [
            "FF6699\n"
          ]
        }
      ],
      "source": [
        "# hexadecimal example\n",
        "print('FF6699')\n"
      ]
    },
    {
      "cell_type": "markdown",
      "metadata": {
        "id": "uSGi_JkpiJSB"
      },
      "source": [
        "<hr>"
      ]
    },
    {
      "cell_type": "markdown",
      "metadata": {
        "id": "SuqNevwbiJSB"
      },
      "source": [
        "# Integers \n",
        "\n",
        "An integer is a whole number that can be positive, negative, or zero and is not a fraction. A data type that represents a limited subset of the mathematical numbers is known as an integer in computer science. Different widths and the presence of negative values are also possible for integral data types.\n"
      ]
    },
    {
      "cell_type": "code",
      "execution_count": null,
      "metadata": {
        "id": "PGWqIbgFiJSC",
        "outputId": "956c570c-dcd5-42af-fbb6-55182456d2cb"
      },
      "outputs": [
        {
          "name": "stdout",
          "output_type": "stream",
          "text": [
            "10\n",
            "<class 'int'>\n",
            "15\n",
            "150\n"
          ]
        }
      ],
      "source": [
        "# Declare and assign an integer value\n",
        "x = 10\n",
        "print(x)  # prints 10\n",
        "print(type(x))  # prints <class 'int'>\n",
        "\n",
        "# Perform arithmetic operations with integers\n",
        "y = x + 5\n",
        "print(y)  # prints 15\n",
        "z = x * y\n",
        "print(z)  # prints 150"
      ]
    },
    {
      "cell_type": "markdown",
      "metadata": {
        "id": "9opldRQbiJSC"
      },
      "source": [
        "<hr>"
      ]
    },
    {
      "cell_type": "markdown",
      "metadata": {
        "id": "xE5dWPZUiJSC"
      },
      "source": [
        "# Iterations\n",
        "\n",
        "Iteration is the repetition of part of an algorithm until a condition is met or for a specified number of times. This is often called a ‘loop’. Recursive functions repeatedly execute themselves as part of their operation. Upon completing all instructions and resetting to the first one iteration has been completed."
      ]
    },
    {
      "cell_type": "code",
      "execution_count": null,
      "metadata": {
        "id": "dPpk7MimiJSC",
        "outputId": "71f40e7b-3ded-4e74-a673-45ef3e4a7484"
      },
      "outputs": [
        {
          "name": "stdout",
          "output_type": "stream",
          "text": [
            "1\n",
            "2\n",
            "3\n",
            "4\n",
            "5\n",
            "apple\n",
            "banana\n",
            "cherry\n"
          ]
        }
      ],
      "source": [
        "numbers = [1, 2, 3, 4, 5]\n",
        "for number in numbers:\n",
        "    print(number)\n",
        "\n",
        "words = [\"apple\", \"banana\", \"cherry\"]\n",
        "for word in words:\n",
        "    print(word)"
      ]
    },
    {
      "cell_type": "markdown",
      "metadata": {
        "id": "QOzebomxiJSD"
      },
      "source": [
        "<hr>"
      ]
    },
    {
      "cell_type": "markdown",
      "metadata": {
        "id": "oyCrrFQXiJSD"
      },
      "source": [
        "# Libraries \n",
        "\n",
        "A library in computer science is a collection of non-volatile data that a program may often access to create new software. Due to the fact that you do not have to manually link routines to every application that utilizes them, libraries are particularly helpful for storing frequently used functions. When the linker cannot find a procedure elsewhere, it automatically searches libraries for it. Data, documentation, message templates, pre-written code, classes, and values are examples of resources that may be found in libraries."
      ]
    },
    {
      "cell_type": "code",
      "execution_count": null,
      "metadata": {
        "id": "rzC-zAShiJSD",
        "outputId": "e0dc7125-e486-4fc8-ffec-a42b4834b4dd"
      },
      "outputs": [
        {
          "name": "stdout",
          "output_type": "stream",
          "text": [
            "3.0\n",
            "1.0\n"
          ]
        },
        {
          "data": {
            "text/plain": [
              "4"
            ]
          },
          "execution_count": 3,
          "metadata": {},
          "output_type": "execute_result"
        }
      ],
      "source": [
        "import math\n",
        "x = math.sqrt(9)\n",
        "print(x)  # prints 3.0\n",
        "\n",
        "y = math.sin(math.pi / 2)\n",
        "print(y)  # prints 1.0\n",
        "\n",
        "import random\n",
        "\n",
        "data = [1, 2, 3, 4, 5]\n",
        "random.choice(data)"
      ]
    },
    {
      "cell_type": "markdown",
      "metadata": {
        "id": "SBdu0Z16iJSE"
      },
      "source": [
        "<hr>"
      ]
    },
    {
      "cell_type": "markdown",
      "metadata": {
        "id": "pHB3X40niJSE"
      },
      "source": [
        "# Linear/Sequential Search\n",
        "\n",
        "A method that progressively examines each element in the list until the target element is discovered or every element has been examined. can be applied to any list type. performs linearly.\n"
      ]
    },
    {
      "cell_type": "code",
      "execution_count": null,
      "metadata": {
        "id": "686GVqdoiJSE",
        "outputId": "e7539456-3303-414a-d862-12cce2411d5b"
      },
      "outputs": [
        {
          "name": "stdout",
          "output_type": "stream",
          "text": [
            "3 found at index 2\n"
          ]
        }
      ],
      "source": [
        "def linear_search(data, target):\n",
        "    for i in range(len(data)):\n",
        "        if data[i] == target:\n",
        "            return i\n",
        "    return -1\n",
        "\n",
        "# Test the search function\n",
        "data = [1, 2, 3, 4, 5]\n",
        "target = 3\n",
        "\n",
        "index = linear_search(data, target)\n",
        "\n",
        "if index == -1:\n",
        "    print(f\"{target} not found in data\")\n",
        "else:\n",
        "    print(f\"{target} found at index {index}\")"
      ]
    },
    {
      "cell_type": "markdown",
      "metadata": {
        "id": "S7JL0xUHiJSE"
      },
      "source": [
        "<hr>"
      ]
    },
    {
      "cell_type": "markdown",
      "metadata": {
        "id": "NL_fDHHpiJSF"
      },
      "source": [
        "# Lossless Data Compression\n",
        "\n",
        "When a file is compressed without any loss of quality, all of the original data is still present when the file is decompress. The information has been fully recovered. This method is typically used for text or spreadsheet files where the loss of words or financial information might be problematic. A format for images that offers lossless compression is PNG.\n"
      ]
    },
    {
      "cell_type": "code",
      "execution_count": null,
      "metadata": {
        "id": "lpruEsA0iJSF"
      },
      "outputs": [],
      "source": [
        "compressed_data = zlib.compress(data)\n",
        "decompressed_data = zlib.decompress(compressed_data)\n",
        "assert data == decompressed_data"
      ]
    },
    {
      "cell_type": "markdown",
      "metadata": {
        "id": "ecVfNFXHiJSF"
      },
      "source": [
        "<hr>"
      ]
    },
    {
      "cell_type": "markdown",
      "metadata": {
        "id": "dUs0BrBdiJSF"
      },
      "source": [
        "# Lossy compression \n",
        "\n",
        "Reduces a file by permanently removing certain data, particularly superfluous data. Upon file uncompression, just a portion of the original data remains (although the user may not notice it). Lossy compression is typically employed for video and sound since most users won't notice a certain degree of information loss. The lossy compression offered by JPEG.\n"
      ]
    },
    {
      "cell_type": "code",
      "execution_count": null,
      "metadata": {
        "id": "wxVk-l5oiJSF"
      },
      "outputs": [],
      "source": [
        "from PIL import Image\n",
        "image = Image.open(\"image.jpg\")\n",
        "image_data = image.getdata()\n",
        "quality = 50\n",
        "compressed_image = Image.new(\"RGB\", image.size)\n",
        "compressed_image.putdata(image_data)\n",
        "compressed_image.save(\"image_compressed.jpg\", \"JPEG\", quality=quality)"
      ]
    },
    {
      "cell_type": "markdown",
      "metadata": {
        "id": "lFHPp6a6iJSG"
      },
      "source": [
        "<hr>"
      ]
    },
    {
      "cell_type": "markdown",
      "metadata": {
        "id": "f5b4iIY_iJSG"
      },
      "source": [
        "# Metadata\n",
        "\n",
        "Information about other information. Basic information about data is summarized in metadata, which can facilitate identifying and interacting with specific instances of data. It offers details on an item's content, such as the size and resolution of the images."
      ]
    },
    {
      "cell_type": "code",
      "execution_count": null,
      "metadata": {
        "id": "zy9pwYHoiJSG"
      },
      "outputs": [],
      "source": [
        "<head>\n",
        "  <title>Raunak</title>\n",
        "  <meta name=\"description\" content=\"hey\">\n",
        "  <meta name=\"keywords\" content=\"hey\">\n",
        "  <meta name=\"author\" content=\"Raunak Mondal\">\n",
        "  <meta name=\"viewport\" content=\"width=device-width, initial-scale=1.0\">\n",
        "</head>"
      ]
    },
    {
      "cell_type": "markdown",
      "metadata": {
        "id": "GQq2E1HiiJSG"
      },
      "source": [
        "<hr>"
      ]
    },
    {
      "cell_type": "markdown",
      "metadata": {
        "id": "G2vKd95JiJSH"
      },
      "source": [
        "# Pseudocode\n",
        "\n",
        "A thorough yet understandable specification of what an algorithm or computer program must accomplish. It might also be used to define a working principle. Instead of being represented in a programming language made for humans, it is done so in a professionally stylized natural language. Normal programming practices continue."
      ]
    },
    {
      "cell_type": "code",
      "execution_count": null,
      "metadata": {
        "id": "HCdfzzQBiJSH"
      },
      "outputs": [],
      "source": [
        "maxValue = 0\n",
        "FOR each number in list:\n",
        "  IF number > maxValue:\n",
        "    maxValue = number\n",
        "OUTPUT maxValue\n"
      ]
    },
    {
      "cell_type": "markdown",
      "metadata": {
        "id": "wGbGn7oMiJSH"
      },
      "source": [
        "<hr>"
      ]
    },
    {
      "cell_type": "markdown",
      "metadata": {
        "id": "xt6BLWndiJSH"
      },
      "source": [
        "# Sequencing \n",
        "\n",
        "The process of carrying out each step/action in a particular algorithm in the exact sequence that is specified."
      ]
    },
    {
      "cell_type": "code",
      "execution_count": 4,
      "metadata": {
        "colab": {
          "base_uri": "https://localhost:8080/"
        },
        "id": "lIxk9CRBiJSH",
        "outputId": "f67c6b29-0874-453c-85e4-162ce7066e66"
      },
      "outputs": [
        {
          "output_type": "stream",
          "name": "stdout",
          "text": [
            "5\n",
            "Hello, Mr. Yeung!\n",
            "Goodbye!\n"
          ]
        }
      ],
      "source": [
        "def greet(name):\n",
        "  print(\"Hello, \" + name + \"!\")\n",
        "\n",
        "x = 5\n",
        "\n",
        "print(x)\n",
        "\n",
        "greet(\"Mr. Yeung\")\n",
        "\n",
        "print(\"Goodbye!\")"
      ]
    }
  ],
  "metadata": {
    "kernelspec": {
      "display_name": "base",
      "language": "python",
      "name": "python3"
    },
    "language_info": {
      "codemirror_mode": {
        "name": "ipython",
        "version": 3
      },
      "file_extension": ".py",
      "mimetype": "text/x-python",
      "name": "python",
      "nbconvert_exporter": "python",
      "pygments_lexer": "ipython3",
      "version": "3.9.12"
    },
    "orig_nbformat": 4,
    "vscode": {
      "interpreter": {
        "hash": "e7a42f898bd6558739d9efcab6315e27b1f4d067788c5506f4b776d0ba82514c"
      }
    },
    "colab": {
      "provenance": []
    }
  },
  "nbformat": 4,
  "nbformat_minor": 0
}