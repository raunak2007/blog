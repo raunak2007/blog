{
  "cells": [
    {
      "cell_type": "markdown",
      "metadata": {
        "id": "Sfs6s7bXut1p"
      },
      "source": [
        "# Tri 2 Portfolio\n",
        "- title : Week 2 Portfolio\n",
        "- toc: true \n",
        "- badges: true\n",
        "- comments: true"
      ]
    },
    {
      "cell_type": "markdown",
      "metadata": {
        "id": "MBPFUfmGut1x"
      },
      "source": [
        "# Vocab\n",
        "- Binary:\n",
        "    - Bits\n",
        "        - Bits are single pieces of information which can either have a 0 or a 1. They are the building block of all code.\n",
        "    - Bytes\n",
        "        - A single byte is 8 bits. Megabytes, Gigabytes, etc are all multiples of bytes and they represent memory or storage\n",
        "    - Hexedecimal\n",
        "        - base 16 counting. Binary is a base 2 system\n",
        "    - Unsigned Integer\n",
        "        - An unsigned integer is a basic number value in bits. It does not include a negative or positive and therefore is non-negative\n",
        "    - Signed Integer\n",
        "        - An integer with a negative or positive\n",
        "    - Floating Point\n",
        "        - A way of approximately representing decimal values\n",
        "    - Boolean\n",
        "        - Data type with a true/false value, can be represented with 1s and 0s\n",
        "    - ASCII\n",
        "        - A Character encoding standard, transfers binary to chars\n",
        "    - Unicode\n",
        "        - Another character encoding standard, builds on ASCII\n",
        "    - RGB\n",
        "        - Color codes are represented in Hexidecimal which describe the red green and blue values to build a color\n",
        "            EX: #FF0000, rgb(255, 0, 0)\n",
        "- Algorithm Terms:\n",
        "    - Variables: An abstraction inside a program that holds a specific value or meaning defined by the programmer.\n",
        "    - Data Types:\n",
        "        - Integer- highScore (involves math, save as integer or numbers)\n",
        "        - String- firstName (name is text, so it is a string)\n",
        "        - Boolean- isSunny (2 options, true or false)\n",
        "        - String- phoneNumber (no math, just numbers)\n",
        "\n",
        "    - Arithmetic Operators:\n",
        "        -  Plus indicated addition (a + b)\n",
        "        - Minus indicates subtractions (a - b)\n",
        "        - Asterisk indicated multiplication (a * b)\n",
        "        - Slash indicated division (a / b)\n",
        "    - Managing Complexity:\n",
        "        - Lists: Allows you to complete a process for each value in the list, or store multiple values to one variable.\n",
        "        - 2D Lists: Array within an array. You can pull single arrays through using index and variable commands.\n",
        "        - Dictionaries: Allows the storage or data keys and values (assigning a certain piece of data to fit the category it is assigned)\n",
        "        - Class: A particular data structure.\n",
        "        - Algorithms: An algorithm is a finite set of instructions that accomplish a specific task, us as humans, do algorithms on a daily basis.\n",
        "        - Sequence: A specific order a process is completed, which impacts the output.\n",
        "        - Selection: Programmer decides between 2 different functions\n",
        "        - Iteration: Repetition of a process\n",
        "        - For loop: repeats a section of code a set number of times\n",
        "        - While loop: repearts a section of code an unknown number of times, until the code is told to break\n",
        "        - Expressions: A piece of syntax in coding\n",
        "    - Characters:\n",
        "        - Strings : A variable data type which consists of a combination of letters, numbers, and other special characters (ex: @#$%^&*). They are seen inside quotation marks, and operators cannot affect any numbers in the string.\n",
        "            - Ex: stringVar = “Hello World!”\n",
        "            - “Hello World!” is a string.\n",
        "        - Length: The number of elements in a list. Here’s an example in Python:\n",
        "            - numList = [1 , 2 , 3 , 4 , 5 , 6 , 7 , 8 , 9 , 8 , 7 , 6 , 5 , 4 , 3 , 2 , 1]\n",
        "        - Concatenation: the act of joining two strings into a single string. Often, these strings are printed to an output terminal/console. Here’s an example in pseudocode:\n",
        "            - concat(“tri”, “llion”)\n",
        "            - This concatenates the strings “tri” and “llion”, making a new string “trillion”.\n",
        "        - Upper, Lower, Traversing Strings\n",
        "            - The first two (upper and lower) seem to be referring to Python methods. They are quite simple. I think it would be easiest to explain with a demonstration:\n",
        "            - String = “WhYaReWeDoInGtHiS”\n",
        "            - print(string)\n",
        "            - print(string.upper())\n",
        "            - print(string.lower())\n",
        "            - Output:\n",
        "            - WhYaReWeDoInGtHiS\n",
        "            - WHYAREWEDOINGTHIS\n",
        "            - whyarewedoingthis\n",
        "\n",
        "\n",
        "# Variables, Assignments, Data Abstraction\n",
        "## Variables\n",
        "- Abstraction insde a program that can hold a value\n",
        "- Organizes data with a name\n",
        "- Consist of name, value, type\n",
        "- Understanding of code is through name of variables\n",
        "- Types of data:\n",
        "    - Interger, String, Boolean\n",
        "    - List can also be stored in variables \n",
        "        - Print/retreive specific values\n",
        "        - easily able to add and remove values\n",
        "\n",
        "## Assignments\n",
        "- Assignment operator allows program to change value represented by variable\n",
        "    - =, +=, -=, *=, /=, **=\n",
        "\n",
        "## Data Abstraction\n",
        "- Method used in coding to usefully represent data\n",
        "- Variables and list are primary tools\n",
        "- Provides seperation btw abstract properties of a data type and concrete details of its representation\n",
        "\n",
        "# Algorithms\n",
        "- Sequencing\n",
        "    - Algorithms do tasks in the order of specification.\n",
        "- Selection\n",
        "    -  Helps choose two different outcomes based off a decision.\n",
        "- Iteration\n",
        "    - If a condition is true, then the code can repeat.\n",
        "- Flowcharts\n",
        "    - Use shapes and arrows to represent the steps of an algorithm.\n",
        "- Pseudocode\n",
        "    - A blend of human language and coding format.\n",
        "\n",
        "# Arithmetic Operation\n",
        "- Arithmetic operations exist in most programming languages.\n",
        "- subtraction (-)\n",
        "- addition (+)\n",
        "- multiplication (*)\n",
        "- division (/)\n",
        "- Getting the remainder (%)\n",
        "- ORDER OF OPERATIONS is crucial\n",
        "    - reassigning variables using operations on other variables can get confusing\n",
        "- PAY ATTENTION TO SEQUENCING SO OPERATIONS OF VARIABLES DONT GET MESSED UP\n",
        "- Track varaibles (common question in AP Exam)\n",
        "\n",
        "# String\n",
        "- A string is a collection of characters. What is a character as character can be anything from numbers, letters, spaces, special symbols, etc.\n",
        "- len () : to find the length of a string\n",
        "- lower () : to convert to lowercase\n",
        "- concat (): in pseudocode and varys from language to language can be used to combine to strings\n",
        "\n",
        "# Lists and Iteration\n",
        "## Lists\n",
        "- Sequence of variables\n",
        "    - Used to store multiple items in a variable\n",
        "    - ordered and flexibe\n",
        "- Tuple: collection thats ordered, unchangeable, allows duplicates\n",
        "- Set: Unordered, unchangeable, doesn't allow duplicates\n",
        "- Dictionary: ordered, changeable, doesn't allow duplicates\n",
        "- Index: refrences an element in a list that is in order\n",
        "- Elements: values in the list that are assigned to an index\n",
        "- Methods:\n",
        "    - append() adds elements\n",
        "    - index() returns the index of the first element with specificed value\n",
        "    - inset() adds element at given position\n",
        "    - remove() removes the first item with the specified value\n",
        "    - reverse() reverse list order\n",
        "    - sort() sorts the list\n",
        "    - count() returns amount of elements with specified value\n",
        "    - copy() returns a copy of the list\n",
        "    - clear() removes elements from list\n",
        "\n",
        "## Iteration\n",
        "- repetition of a process applied to the result or taken frmo previous statement\n",
        "    - for loops\n",
        "    - while loops\n",
        "- 2 types of iteration: indefinite and definite\n",
        "    - definite: clarifies how many times the loop is going to run\n",
        "    - indefinite: how many times its going be ran based on conditions\n",
        "- When object is iterable it can be used in an interation \n",
        "- Iter() returns an interator\n",
        "- Strings, list, dictionaries, sets, and tuples are iterable objects\n",
        "- Break: stops the loop\n",
        "\n",
        "## 2D Iteration\n",
        "- Lists of lists\n",
        "- Read in 2 dimensions (list on top of list\n",
        "\n",
        "# Algorithms and Conditionals vs Booleans and Binary Search/Flowcharts\n",
        "## Algorithms\n",
        "- Process or set of rules to be followed through code\n",
        "    - Set limitations\n",
        "- Algorithms can be written in different ways and still accomplish the same tasks\n",
        "- Algorithms that appear similar can yield different side effects or results.\n",
        "- Some conditional statements can be written as the same as Boolean expressions (VICE VERSA)\n",
        "- Different algorithms can be developed or use to solve the same problem.\n",
        "## Conditional vs Booleans\n",
        "- Boolean expression when an expression outputs true or false\n",
        "- Booleans can only hold true or false\n",
        "## Flowcharts\n",
        "- Help you visualize functonality of an algorithm\n",
        "- Good way to double check whether an algorithm is acheiving its purpose\n",
        "## Binary Search\n",
        "- Search algorithm that finds position of target value within a sorted array\n",
        "    - Algorithm for iteratin gto find a value inside a data set\n",
        "- Starts in middle of data set and eliminates half the data\n",
        "- COLLEGE BOARD INDEX STARTS AT 1 NOT 0\n",
        "## Libraries\n",
        "- A library is a collection of precompiled codes that can be used later on in a program for some specific well-defined operations.\n",
        "- These precompiled codes can be referred to as modules. Each module contains bundles of code that can be used repeatedly in different programs.\n",
        "- A library may also contain documentation, configuration data, message templates, classes, and values, etc.\n",
        "- Importance:\n",
        "    - Using Libraries makes Python Programming simpler and convenient for the programmer.\n",
        "    - One example would be through looping and iteration, as we don’t need to write the same code again and again for different programs.\n",
        "    - Python libraries play a very vital role in fields of Machine Learning, Data Science, Data Visualization, etc.\n",
        "## APIS\n",
        "- An Application Program Interface, or API, contains specific direction for how the procedures in a library behave and can be used.\n",
        "- An API acts as a gateway for the imported procedures from a library to interact with the rest of your code."
      ]
    },
    {
      "cell_type": "markdown",
      "metadata": {
        "id": "0tpJUBIWut13"
      },
      "source": [
        "# Examples"
      ]
    },
    {
      "cell_type": "markdown",
      "metadata": {
        "id": "HaXfpqD_ut17"
      },
      "source": [
        "## List Example:"
      ]
    },
    {
      "cell_type": "code",
      "execution_count": null,
      "metadata": {
        "id": "aiIHqptJut19",
        "outputId": "188f7d4f-461b-4f45-f1df-1fed92da669b"
      },
      "outputs": [
        {
          "name": "stdout",
          "output_type": "stream",
          "text": [
            "['pink', 'yellow', 'green', 'blue', 'orange']\n"
          ]
        }
      ],
      "source": [
        "colorsList=[\"pink\", \"yellow\", \"green\", \"blue\", \"orange\"]\n",
        "\n",
        "print(colorsList)"
      ]
    },
    {
      "cell_type": "markdown",
      "metadata": {
        "id": "PEL7LU3Rut2A"
      },
      "source": [
        "## Variable type examples (string,integer,boolean):"
      ]
    },
    {
      "cell_type": "code",
      "execution_count": null,
      "metadata": {
        "id": "vNraNinlut2B",
        "outputId": "97f5185e-7f77-4fc2-a66f-5f260ae2032f"
      },
      "outputs": [
        {
          "name": "stdout",
          "output_type": "stream",
          "text": [
            "table1 <class 'str'>\n",
            "4 <class 'int'>\n",
            "False <class 'bool'>\n"
          ]
        }
      ],
      "source": [
        "name = \"table1\" #string\n",
        "print(name, type(name))\n",
        "\n",
        "number = 4 #integer\n",
        "print(number, type(number))\n",
        "\n",
        "isAbsent = False\n",
        "print(isAbsent, type(isAbsent))"
      ]
    },
    {
      "cell_type": "markdown",
      "metadata": {
        "id": "cu1HdvaDut2C"
      },
      "source": [
        "## Operators Examples:"
      ]
    },
    {
      "cell_type": "code",
      "execution_count": null,
      "metadata": {
        "id": "qwO1FdNOut2D",
        "outputId": "c1332fd0-a1e3-40c1-c109-b919142e05cc"
      },
      "outputs": [
        {
          "name": "stdout",
          "output_type": "stream",
          "text": [
            "1\n",
            "3\n",
            "2\n",
            "2.0\n",
            "1\n"
          ]
        }
      ],
      "source": [
        "num1 = 2 - 1\n",
        "num2 = 2 + 1\n",
        "num3 = 2 * 1\n",
        "num4 = 2 / 1\n",
        "num5 = 5%2\n",
        "print(num1)\n",
        "print(num2)\n",
        "print(num3)\n",
        "print(num4)\n",
        "print(num5)"
      ]
    },
    {
      "cell_type": "markdown",
      "metadata": {
        "id": "XXvKeN-iut2E"
      },
      "source": [
        "## Algorithm Examples\n",
        "Algorithms with same code but differnt results"
      ]
    },
    {
      "cell_type": "code",
      "execution_count": null,
      "metadata": {
        "id": "4ntHTePUut2F",
        "outputId": "72e05e60-ef32-477e-b6ab-1a18fb56d235"
      },
      "outputs": [
        {
          "name": "stdout",
          "output_type": "stream",
          "text": [
            "It's too hot outside!\n"
          ]
        }
      ],
      "source": [
        "temp = int(input(\"Select a temperature from 0 to 99 degrees F\"))\n",
        "if (temp >= 90):\n",
        "    print(\"It's too hot outside!\")\n",
        "else:\n",
        "    if (temp >= 65):\n",
        "        print(\"Sure I will play outside!\")\n",
        "    else: \n",
        "        print(\"It is too cold outside!\")\n",
        "# Input 54 and then 95, what do you notice?"
      ]
    },
    {
      "cell_type": "code",
      "execution_count": null,
      "metadata": {
        "id": "_dHRy9-Iut2G",
        "outputId": "2e4bcc43-e60a-4ee5-f428-3f03250d0123"
      },
      "outputs": [
        {
          "name": "stdout",
          "output_type": "stream",
          "text": [
            "It's too hot outside!\n",
            "Sure I will play outside!\n"
          ]
        }
      ],
      "source": [
        "temp = int(input(\"Select a temperature from 0 to 99 degrees F\"))\n",
        "if (temp >= 90):\n",
        "    print(\"It's too hot outside!\")\n",
        "if (temp >= 65):\n",
        "    print(\"Sure I will play outside!\")\n",
        "if (temp < 65):\n",
        "    print(\"It is too cold outside!\")\n",
        "    # Input 54 and then Input 95, what do you notice?"
      ]
    },
    {
      "cell_type": "markdown",
      "metadata": {
        "id": "ewjYzLVkut2G"
      },
      "source": [
        "Algorithms that accomplish the same task but differnet code"
      ]
    },
    {
      "cell_type": "code",
      "execution_count": null,
      "metadata": {
        "id": "dO7ykFX5ut2J"
      },
      "outputs": [],
      "source": [
        "sum = 1\n",
        "counter = 3\n",
        "#iteration\n",
        "var = 0 \n",
        "while (var < 4): #while the var is <= 4, it executes those commands, once it exceeds it hits the else command\n",
        "    sum = sum + counter\n",
        "    counter = counter + 2\n",
        "    var = var + 1\n",
        "    # now go through the whole thing 4 times, this is an iteration, a vital part of algorithms.\n",
        "else:\n",
        "    print(sum)"
      ]
    },
    {
      "cell_type": "code",
      "execution_count": null,
      "metadata": {
        "id": "-cvsh44Out2J"
      },
      "outputs": [],
      "source": [
        "sum = 0\n",
        "counter = 9\n",
        "#iteration\n",
        "while (counter >= 1): \n",
        "    sum = sum + counter\n",
        "    counter = counter - 2\n",
        "print(sum)"
      ]
    },
    {
      "cell_type": "markdown",
      "metadata": {
        "id": "-yytxRlxut2J"
      },
      "source": [
        "## Building an Algorithm Steps:"
      ]
    },
    {
      "cell_type": "code",
      "execution_count": null,
      "metadata": {
        "id": "kg8pa__but2K"
      },
      "outputs": [],
      "source": [
        "print(\"choose value for x\")\n",
        "\n",
        "varx=int(input(\"Enter any positive Integer\"))\n",
        "\n",
        "if (varx %2 == 0):\n",
        "     varx == varx/2       # Change print to the function\n",
        "\n",
        "else:\n",
        "    varx == varx * 3 + 1      # Change print to the function\n",
        "\n",
        "print(varx)\n"
      ]
    },
    {
      "cell_type": "code",
      "execution_count": null,
      "metadata": {
        "id": "E_karswYut2K"
      },
      "outputs": [],
      "source": [
        "print(\"choose value for x\")\n",
        "\n",
        "varx=int(input(\"Enter any positive Integer\"))\n",
        "\n",
        "while varx != 1:\n",
        "\n",
        "    if (varx %2 == 0):\n",
        "        varx = varx/2       # Change print to the function\n",
        "\n",
        "    else:\n",
        "        varx = varx * 3 + 1      # Change print to the function\n",
        "\n",
        "print(varx)"
      ]
    },
    {
      "cell_type": "code",
      "execution_count": null,
      "metadata": {
        "id": "6hcUZ_E6ut2L"
      },
      "outputs": [],
      "source": [
        "print(\"choose value for x\")\n",
        "\n",
        "varx=int(input(\"Enter any positive Integer\"))\n",
        "\n",
        "print(varx)\n",
        "while varx != 1:\n",
        "\n",
        "    if (varx %2 == 0):\n",
        "        varx = varx/2       \n",
        "        print(varx)               # add Display\n",
        "    else:\n",
        "        varx = varx * 3 + 1      \n",
        "        print(varx)               # add Display\n",
        "print(varx)                       # Final # Should be 1 every time"
      ]
    },
    {
      "cell_type": "markdown",
      "metadata": {
        "id": "3LKfHKzGut2L"
      },
      "source": [
        "## Binary Search Example:"
      ]
    },
    {
      "cell_type": "code",
      "execution_count": null,
      "metadata": {
        "id": "9w9yJkLGut2M",
        "outputId": "2bbec29d-3c8b-4c6d-a4af-14c52f375d92"
      },
      "outputs": [
        {
          "name": "stdout",
          "output_type": "stream",
          "text": [
            "Element is present at index 1\n"
          ]
        }
      ],
      "source": [
        "def BinarySearch(array, x, low, high):\n",
        "\n",
        "    # Repeat until the pointers low and high meet each other \n",
        "    while low <= high:\n",
        "\n",
        "        mid = low + (high - low)//2 # find the middle (taking the higest index number plus the lowest and divided by two)\n",
        "\n",
        "        if array[mid] == x: # if desired number is the middle is found return desired number (middle number) \n",
        "            return mid\n",
        "\n",
        "        elif array[mid] < x: \n",
        "            low = mid + 1\n",
        "\n",
        "        else:\n",
        "            high = mid - 1\n",
        "\n",
        "    return -1\n",
        "\n",
        "\n",
        "array = [3, 4, 5, 6, 7, 8, 9]\n",
        "x = 4\n",
        "\n",
        "result = BinarySearch(array, x, 0, len(array)-1)\n",
        "\n",
        "if result != -1:\n",
        "    print(\"Element is present at index \" + str(result))\n",
        "else:\n",
        "    print(\"Not found\")"
      ]
    }
  ],
  "metadata": {
    "kernelspec": {
      "display_name": "Python 3.8.10 64-bit",
      "language": "python",
      "name": "python3"
    },
    "language_info": {
      "codemirror_mode": {
        "name": "ipython",
        "version": 3
      },
      "file_extension": ".py",
      "mimetype": "text/x-python",
      "name": "python",
      "nbconvert_exporter": "python",
      "pygments_lexer": "ipython3",
      "version": "3.8.10 (default, Jun 22 2022, 20:18:18) \n[GCC 9.4.0]"
    },
    "orig_nbformat": 4,
    "vscode": {
      "interpreter": {
        "hash": "916dbcbb3f70747c44a77c7bcd40155683ae19c65e1c03b4aa3499c5328201f1"
      }
    },
    "colab": {
      "provenance": []
    }
  },
  "nbformat": 4,
  "nbformat_minor": 0
}